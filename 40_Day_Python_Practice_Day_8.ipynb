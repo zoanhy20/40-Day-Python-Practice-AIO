{
  "nbformat": 4,
  "nbformat_minor": 0,
  "metadata": {
    "colab": {
      "provenance": [],
      "authorship_tag": "ABX9TyPZcBNskwJTu4wJWg24j1gY",
      "include_colab_link": true
    },
    "kernelspec": {
      "name": "python3",
      "display_name": "Python 3"
    },
    "language_info": {
      "name": "python"
    }
  },
  "cells": [
    {
      "cell_type": "markdown",
      "metadata": {
        "id": "view-in-github",
        "colab_type": "text"
      },
      "source": [
        "<a href=\"https://colab.research.google.com/github/zoanhy20/40-Day-Python-Practice-AIO/blob/main/40_Day_Python_Practice_Day_8.ipynb\" target=\"_parent\"><img src=\"https://colab.research.google.com/assets/colab-badge.svg\" alt=\"Open In Colab\"/></a>"
      ]
    },
    {
      "cell_type": "markdown",
      "source": [
        "## Enumerate"
      ],
      "metadata": {
        "id": "5lOaQb8ztYvI"
      }
    },
    {
      "cell_type": "markdown",
      "source": [
        "## Method 1"
      ],
      "metadata": {
        "id": "c-2zxrr7tLBw"
      }
    },
    {
      "cell_type": "code",
      "source": [
        "shopping_list = ['Táo', 'Lê', 'Vải']\n",
        "\n",
        "print('Danh sách mua sắm:')\n",
        "for index in range(len(shopping_list)):\n",
        "    print(f'{index + 1}. {shopping_list[index]}')"
      ],
      "metadata": {
        "colab": {
          "base_uri": "https://localhost:8080/"
        },
        "id": "XvKG1lButKom",
        "outputId": "bf5f5762-13d4-436d-f7a6-9d9b49fff9c2"
      },
      "execution_count": 5,
      "outputs": [
        {
          "output_type": "stream",
          "name": "stdout",
          "text": [
            "Danh sách mua sắm:\n",
            "1. Táo\n",
            "2. Lê\n",
            "3. Vải\n"
          ]
        }
      ]
    },
    {
      "cell_type": "markdown",
      "source": [
        "## Method 2"
      ],
      "metadata": {
        "id": "P3XIVhHossrj"
      }
    },
    {
      "cell_type": "code",
      "execution_count": 3,
      "metadata": {
        "colab": {
          "base_uri": "https://localhost:8080/"
        },
        "id": "h0QxL64vsSmk",
        "outputId": "b63f617f-839c-4004-d272-8a9f1eb99c9b"
      },
      "outputs": [
        {
          "output_type": "stream",
          "name": "stdout",
          "text": [
            "Danh sách mua sắm:\n",
            "1. Táo\n",
            "2. Lê\n",
            "3. Vải\n"
          ]
        }
      ],
      "source": [
        "shopping_list = ['Táo', 'Lê', 'Vải']\n",
        "\n",
        "print('Danh sách mua sắm:')\n",
        "for index, item in enumerate(shopping_list, start=1):\n",
        "    print(f'{index}. {item}')"
      ]
    },
    {
      "cell_type": "markdown",
      "source": [
        "# Search"
      ],
      "metadata": {
        "id": "yFg5cRQNvdnz"
      }
    },
    {
      "cell_type": "markdown",
      "source": [
        "## Method 1"
      ],
      "metadata": {
        "id": "s-9bhEbOwcoZ"
      }
    },
    {
      "cell_type": "code",
      "source": [
        "food_list = [\n",
        "    ['Thịt bò', 'Thịt heo', 'Thịt gà'],\n",
        "    ['Táo', 'Ổi', 'Cóc'],\n",
        "    ['Bánh mì', 'Bánh dâu', 'Bánh kem']\n",
        "]\n",
        "\n",
        "search_items = ['Thịt gà', 'Ổi', 'Bánh kem']\n",
        "\n",
        "for i in range(len(food_list)):\n",
        "    for j in range(len(food_list[i])):\n",
        "        if food_list[i][j] in search_items:\n",
        "            print(f'{food_list[i][j]} được tìm thấy ở hàng {i + 1} và cột {j + 1}')"
      ],
      "metadata": {
        "colab": {
          "base_uri": "https://localhost:8080/"
        },
        "id": "1APBlOJ3tAWW",
        "outputId": "e8fce15c-56b2-460f-aea6-d52d4ba0a005"
      },
      "execution_count": 7,
      "outputs": [
        {
          "output_type": "stream",
          "name": "stdout",
          "text": [
            "Thịt gà được tìm thấy ở hàng 1 và cột 3\n",
            "Ổi được tìm thấy ở hàng 2 và cột 2\n",
            "Bánh kem được tìm thấy ở hàng 3 và cột 3\n"
          ]
        }
      ]
    },
    {
      "cell_type": "markdown",
      "source": [
        "## Method 2"
      ],
      "metadata": {
        "id": "tIvsR3gZwePV"
      }
    },
    {
      "cell_type": "code",
      "source": [
        "food_list = [\n",
        "    ['Thịt bò', 'Thịt heo', 'Thịt gà'],\n",
        "    ['Táo', 'Ổi', 'Cóc'],\n",
        "    ['Bánh mì', 'Bánh dâu', 'Bánh kem']\n",
        "]\n",
        "\n",
        "search_items = ['Thịt gà', 'Ổi', 'Bánh kem']\n",
        "\n",
        "for i, row in enumerate(food_list, start=1):\n",
        "    for j, item in enumerate(row, start=1):\n",
        "        if item in search_items:\n",
        "            print(f'{item} được tìm thấy ở hàng {i} và cột {j}')"
      ],
      "metadata": {
        "colab": {
          "base_uri": "https://localhost:8080/"
        },
        "id": "FHQeceHJwUOq",
        "outputId": "c41eed57-6871-4d9f-d7ac-bf251162151b"
      },
      "execution_count": 9,
      "outputs": [
        {
          "output_type": "stream",
          "name": "stdout",
          "text": [
            "Thịt gà được tìm thấy ở hàng 1 và cột 3\n",
            "Ổi được tìm thấy ở hàng 2 và cột 2\n",
            "Bánh kem được tìm thấy ở hàng 3 và cột 3\n"
          ]
        }
      ]
    }
  ]
}