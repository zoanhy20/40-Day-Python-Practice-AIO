{
  "nbformat": 4,
  "nbformat_minor": 0,
  "metadata": {
    "colab": {
      "provenance": [],
      "authorship_tag": "ABX9TyMsAqTc0qpg/rqhHgb7JRxt",
      "include_colab_link": true
    },
    "kernelspec": {
      "name": "python3",
      "display_name": "Python 3"
    },
    "language_info": {
      "name": "python"
    }
  },
  "cells": [
    {
      "cell_type": "markdown",
      "metadata": {
        "id": "view-in-github",
        "colab_type": "text"
      },
      "source": [
        "<a href=\"https://colab.research.google.com/github/zoanhy20/40-Day-Python-Practice-AIO/blob/main/40_Day_Python_Practice_Day_21.ipynb\" target=\"_parent\"><img src=\"https://colab.research.google.com/assets/colab-badge.svg\" alt=\"Open In Colab\"/></a>"
      ]
    },
    {
      "cell_type": "code",
      "execution_count": 1,
      "metadata": {
        "colab": {
          "base_uri": "https://localhost:8080/"
        },
        "id": "51XlmKalqX6e",
        "outputId": "e8e825e8-c47a-49cf-c68f-064b471a41e1"
      },
      "outputs": [
        {
          "output_type": "stream",
          "name": "stdout",
          "text": [
            "Writing data.txt\n"
          ]
        }
      ],
      "source": [
        "%%writefile data.txt\n",
        "\n",
        "He who conquers himself is the mightiest warrior\n",
        "Try not to become a man of success but rather become a man of value\n",
        "One man with courage makes a majority\n",
        "One secret of success in life is for a man to be ready for his opportunity when it comes\n",
        "The successful man will profit from his mistakes and try again in a different way\n",
        "A successful man is one who can lay a firm foundation with the bricks others have thrown at him\n",
        "Success usually comes to those who are too busy looking for it\n",
        "We cannot solve problems with the kind of thinking we employed when we came up with them\n",
        "Just one small positive thought in the morning can change your whole day\n",
        "You can get everything in life you want if you will just help enough other people get what they want"
      ]
    },
    {
      "cell_type": "markdown",
      "source": [
        "# Câu 1"
      ],
      "metadata": {
        "id": "-rWH34EJtFja"
      }
    },
    {
      "cell_type": "code",
      "source": [
        "with open('data.txt', 'r') as f:\n",
        "    data = f.read().lower().replace('\\n', ' ').strip()"
      ],
      "metadata": {
        "id": "FWpoojlHsRne"
      },
      "execution_count": 6,
      "outputs": []
    },
    {
      "cell_type": "code",
      "source": [
        "data"
      ],
      "metadata": {
        "colab": {
          "base_uri": "https://localhost:8080/",
          "height": 87
        },
        "id": "bfl8GnGYsbFs",
        "outputId": "962d63ad-58d8-4d36-e968-54037af4cc89"
      },
      "execution_count": 7,
      "outputs": [
        {
          "output_type": "execute_result",
          "data": {
            "text/plain": [
              "'he who conquers himself is the mightiest warrior try not to become a man of success but rather become a man of value one man with courage makes a majority one secret of success in life is for a man to be ready for his opportunity when it comes the successful man will profit from his mistakes and try again in a different way a successful man is one who can lay a firm foundation with the bricks others have thrown at him success usually comes to those who are too busy looking for it we cannot solve problems with the kind of thinking we employed when we came up with them just one small positive thought in the morning can change your whole day you can get everything in life you want if you will just help enough other people get what they want'"
            ],
            "application/vnd.google.colaboratory.intrinsic+json": {
              "type": "string"
            }
          },
          "metadata": {},
          "execution_count": 7
        }
      ]
    },
    {
      "cell_type": "markdown",
      "source": [
        "# Câu 2"
      ],
      "metadata": {
        "id": "C7VW6BjRtG2n"
      }
    },
    {
      "cell_type": "code",
      "source": [
        "distinct_words = list(set(data.split()))\n",
        "distinct_words"
      ],
      "metadata": {
        "colab": {
          "base_uri": "https://localhost:8080/"
        },
        "id": "cr9XFRTSsbof",
        "outputId": "108cef6d-b35c-480d-a09d-d9bb4aef5549"
      },
      "execution_count": 9,
      "outputs": [
        {
          "output_type": "execute_result",
          "data": {
            "text/plain": [
              "['of',\n",
              " 'with',\n",
              " 'warrior',\n",
              " 'him',\n",
              " 'get',\n",
              " 'day',\n",
              " 'way',\n",
              " 'small',\n",
              " 'positive',\n",
              " 'it',\n",
              " 'at',\n",
              " 'a',\n",
              " 'not',\n",
              " 'other',\n",
              " 'morning',\n",
              " 'in',\n",
              " 'man',\n",
              " 'just',\n",
              " 'for',\n",
              " 'bricks',\n",
              " 'he',\n",
              " 'successful',\n",
              " 'mightiest',\n",
              " 'firm',\n",
              " 'profit',\n",
              " 'solve',\n",
              " 'and',\n",
              " 'be',\n",
              " 'are',\n",
              " 'thought',\n",
              " 'mistakes',\n",
              " 'if',\n",
              " 'rather',\n",
              " 'become',\n",
              " 'conquers',\n",
              " 'opportunity',\n",
              " 'success',\n",
              " 'change',\n",
              " 'came',\n",
              " 'enough',\n",
              " 'others',\n",
              " 'one',\n",
              " 'foundation',\n",
              " 'busy',\n",
              " 'have',\n",
              " 'they',\n",
              " 'is',\n",
              " 'but',\n",
              " 'too',\n",
              " 'everything',\n",
              " 'those',\n",
              " 'up',\n",
              " 'your',\n",
              " 'his',\n",
              " 'can',\n",
              " 'employed',\n",
              " 'from',\n",
              " 'secret',\n",
              " 'when',\n",
              " 'help',\n",
              " 'value',\n",
              " 'want',\n",
              " 'courage',\n",
              " 'try',\n",
              " 'the',\n",
              " 'himself',\n",
              " 'what',\n",
              " 'lay',\n",
              " 'life',\n",
              " 'usually',\n",
              " 'we',\n",
              " 'looking',\n",
              " 'them',\n",
              " 'thinking',\n",
              " 'again',\n",
              " 'different',\n",
              " 'to',\n",
              " 'whole',\n",
              " 'majority',\n",
              " 'ready',\n",
              " 'kind',\n",
              " 'comes',\n",
              " 'problems',\n",
              " 'people',\n",
              " 'makes',\n",
              " 'will',\n",
              " 'who',\n",
              " 'cannot',\n",
              " 'you',\n",
              " 'thrown']"
            ]
          },
          "metadata": {},
          "execution_count": 9
        }
      ]
    },
    {
      "cell_type": "markdown",
      "source": [
        "# Câu 3"
      ],
      "metadata": {
        "id": "umhn2uHFtI8d"
      }
    },
    {
      "cell_type": "code",
      "source": [
        "distinct_words_dic = {}\n",
        "\n",
        "for word in data.split():\n",
        "    idx_word = distinct_words.index(word)\n",
        "    word_found = distinct_words[idx_word]\n",
        "    if word_found not in distinct_words_dic:\n",
        "        distinct_words_dic[word_found] = 0\n",
        "    else:\n",
        "        distinct_words_dic[word_found] += 1\n",
        "\n",
        "distinct_words_dic"
      ],
      "metadata": {
        "colab": {
          "base_uri": "https://localhost:8080/"
        },
        "id": "tRPL710ZtJz1",
        "outputId": "1bc8b758-eb8f-4a86-bdca-30b73f2ca45e"
      },
      "execution_count": 15,
      "outputs": [
        {
          "output_type": "execute_result",
          "data": {
            "text/plain": [
              "{'he': 0,\n",
              " 'who': 2,\n",
              " 'conquers': 0,\n",
              " 'himself': 0,\n",
              " 'is': 2,\n",
              " 'the': 4,\n",
              " 'mightiest': 0,\n",
              " 'warrior': 0,\n",
              " 'try': 1,\n",
              " 'not': 0,\n",
              " 'to': 2,\n",
              " 'become': 1,\n",
              " 'a': 6,\n",
              " 'man': 5,\n",
              " 'of': 3,\n",
              " 'success': 2,\n",
              " 'but': 0,\n",
              " 'rather': 0,\n",
              " 'value': 0,\n",
              " 'one': 3,\n",
              " 'with': 3,\n",
              " 'courage': 0,\n",
              " 'makes': 0,\n",
              " 'majority': 0,\n",
              " 'secret': 0,\n",
              " 'in': 3,\n",
              " 'life': 1,\n",
              " 'for': 2,\n",
              " 'be': 0,\n",
              " 'ready': 0,\n",
              " 'his': 1,\n",
              " 'opportunity': 0,\n",
              " 'when': 1,\n",
              " 'it': 1,\n",
              " 'comes': 1,\n",
              " 'successful': 1,\n",
              " 'will': 1,\n",
              " 'profit': 0,\n",
              " 'from': 0,\n",
              " 'mistakes': 0,\n",
              " 'and': 0,\n",
              " 'again': 0,\n",
              " 'different': 0,\n",
              " 'way': 0,\n",
              " 'can': 2,\n",
              " 'lay': 0,\n",
              " 'firm': 0,\n",
              " 'foundation': 0,\n",
              " 'bricks': 0,\n",
              " 'others': 0,\n",
              " 'have': 0,\n",
              " 'thrown': 0,\n",
              " 'at': 0,\n",
              " 'him': 0,\n",
              " 'usually': 0,\n",
              " 'those': 0,\n",
              " 'are': 0,\n",
              " 'too': 0,\n",
              " 'busy': 0,\n",
              " 'looking': 0,\n",
              " 'we': 2,\n",
              " 'cannot': 0,\n",
              " 'solve': 0,\n",
              " 'problems': 0,\n",
              " 'kind': 0,\n",
              " 'thinking': 0,\n",
              " 'employed': 0,\n",
              " 'came': 0,\n",
              " 'up': 0,\n",
              " 'them': 0,\n",
              " 'just': 1,\n",
              " 'small': 0,\n",
              " 'positive': 0,\n",
              " 'thought': 0,\n",
              " 'morning': 0,\n",
              " 'change': 0,\n",
              " 'your': 0,\n",
              " 'whole': 0,\n",
              " 'day': 0,\n",
              " 'you': 2,\n",
              " 'get': 1,\n",
              " 'everything': 0,\n",
              " 'want': 1,\n",
              " 'if': 0,\n",
              " 'help': 0,\n",
              " 'enough': 0,\n",
              " 'other': 0,\n",
              " 'people': 0,\n",
              " 'what': 0,\n",
              " 'they': 0}"
            ]
          },
          "metadata": {},
          "execution_count": 15
        }
      ]
    },
    {
      "cell_type": "code",
      "source": [
        "def count_word(word):\n",
        "    return distinct_words_dic[word]\n",
        "\n",
        "print(f'\"a\" in data is {count_word(\"a\")}')"
      ],
      "metadata": {
        "colab": {
          "base_uri": "https://localhost:8080/"
        },
        "id": "T8gFyPQixJTP",
        "outputId": "4efad21e-26c3-4965-aabf-69af80b248e1"
      },
      "execution_count": 18,
      "outputs": [
        {
          "output_type": "stream",
          "name": "stdout",
          "text": [
            "\"a\" in data is 6\n"
          ]
        }
      ]
    }
  ]
}